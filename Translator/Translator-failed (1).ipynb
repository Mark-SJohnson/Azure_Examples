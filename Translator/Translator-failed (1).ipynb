{
 "cells": [
  {
   "cell_type": "code",
   "execution_count": null,
   "id": "c4dcffd5-b9b1-4fa5-89d0-2d557431946f",
   "metadata": {},
   "outputs": [],
   "source": [
    "# Resources  This attempt failed because the api is in preview and we could find a working example. We were getting authenication issue despite using the correct API key. \n",
    "So insted with translator its recommended to use the webapi code example."
   ]
  },
  {
   "cell_type": "code",
   "execution_count": null,
   "id": "f5a5f25b-16ad-4389-95bf-5d69d75911ba",
   "metadata": {
    "tags": []
   },
   "outputs": [],
   "source": [
    "%pip install azure-ai-translation-text==1.0.0b1"
   ]
  },
  {
   "cell_type": "code",
   "execution_count": null,
   "id": "0f2aa295-30d5-48c2-81a0-c957ee344aa4",
   "metadata": {},
   "outputs": [],
   "source": [
    "apikey = \"\"\n",
    "region = \"westus\""
   ]
  },
  {
   "cell_type": "code",
   "execution_count": null,
   "id": "4a6fdbfb-9eec-46c1-bdc5-aab7480cd528",
   "metadata": {
    "tags": []
   },
   "outputs": [],
   "source": [
    "from azure.core.credentials import AzureKeyCredential\n",
    "from azure.ai.translation.text import TextTranslationClient"
   ]
  },
  {
   "cell_type": "code",
   "execution_count": null,
   "id": "b40617c9-e218-4f43-85c2-c64d510f349c",
   "metadata": {},
   "outputs": [],
   "source": [
    "credential = TranslatorCredential(key, region)\n",
    "text_translator = TextTranslationClient(endpoint=endpoint, credential=credential)"
   ]
  },
  {
   "cell_type": "code",
   "execution_count": null,
   "id": "8e3b95a1-fc83-4763-8ce7-76c0baae9e97",
   "metadata": {
    "tags": []
   },
   "outputs": [],
   "source": [
    "try:\n",
    "    source_language = \"en\"\n",
    "    target_languages = [\"es\", \"it\"]\n",
    "    input_text_elements = [ InputTextItem(text = \"This is a test\") ]\n",
    "\n",
    "    response = text_translator.translate(content = input_text_elements, to = target_languages, from_parameter = source_language)\n",
    "    translation = response[0] if response else None\n",
    "\n",
    "    if translation:\n",
    "        for translated_text in translation.translations:\n",
    "            print(f\"Text was translated to: '{translated_text.to}' and the result is: '{translated_text.text}'.\")\n",
    "\n",
    "except HttpResponseError as exception:\n",
    "    print(f\"Error Code: {exception.error.code}\")\n",
    "    print(f\"Message: {exception.error.message}\")"
   ]
  },
  {
   "cell_type": "code",
   "execution_count": null,
   "id": "e81110cf-cd28-4d84-ba66-e6e443cb1b98",
   "metadata": {},
   "outputs": [],
   "source": []
  }
 ],
 "metadata": {
  "kernelspec": {
   "display_name": "Python 3.10 - SDK v2",
   "language": "python",
   "name": "python310-sdkv2"
  },
  "language_info": {
   "codemirror_mode": {
    "name": "ipython",
    "version": 3
   },
   "file_extension": ".py",
   "mimetype": "text/x-python",
   "name": "python",
   "nbconvert_exporter": "python",
   "pygments_lexer": "ipython3",
   "version": "3.10.14"
  }
 },
 "nbformat": 4,
 "nbformat_minor": 5
}
